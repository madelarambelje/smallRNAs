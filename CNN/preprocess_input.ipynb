{
 "cells": [
  {
   "cell_type": "code",
   "execution_count": 7,
   "metadata": {},
   "outputs": [],
   "source": [
    "import gzip\n",
    "import random\n",
    "import numpy as np\n",
    "from Bio import SeqIO\n",
    "from sklearn.model_selection import train_test_split\n",
    "import matplotlib.pyplot as plt\n",
    "from scipy.stats import ks_2samp, probplot, kstest\n",
    "import scipy.stats\n",
    "import matplotlib.mlab as mlab\n",
    "import pylab\n",
    "import collections"
   ]
  },
  {
   "cell_type": "code",
   "execution_count": 8,
   "metadata": {},
   "outputs": [],
   "source": [
    "snoRNA = \"../../../CNN_training_RNAs/negative/snoRNA.fasta.gz\"\n",
    "piRNA = \"../../../CNN_training_RNAs/negative/piRNAs.fasta.gz\"\n",
    "lncRNA = \"../../../CNN_training_RNAs/negative/lncRNA.fasta.gz\"\n",
    "pre_miRNA = \"../../../CNN_training_RNAs/negative/pre_miRNA.fasta.gz\"\n",
    "tRNA = \"../../../CNN_training_RNAs/negative/tRNA.fasta.gz\"\n",
    "rRNA = \"../../../CNN_training_RNAs/negative/rRNA.fasta.gz\"\n",
    "RNAs_not = [snoRNA,piRNA,lncRNA,pre_miRNA,tRNA,rRNA]\n",
    "miRNAs_hexapoda = \"../../../CNN_training_RNAs/positive/hexapoda.fa.gz\"\n",
    "miRNAs_dme_ame = \"../../../CNN_training_RNAs/positive/ame_dme_miRNA.fasta.gz\""
   ]
  },
  {
   "cell_type": "code",
   "execution_count": 10,
   "metadata": {
    "scrolled": true
   },
   "outputs": [
    {
     "name": "stdout",
     "output_type": "stream",
     "text": [
      "4993\n",
      "3399\n"
     ]
    }
   ],
   "source": [
    "positive = []\n",
    "with gzip.open(miRNAs_hexapoda, \"rt\") as handle:\n",
    "        records = SeqIO.parse(handle, \"fasta\")\n",
    "        subsample=[]\n",
    "        for record in records:\n",
    "            if \"R\" in record.seq:\n",
    "                pass\n",
    "            elif \"W\" in record.seq:\n",
    "                pass\n",
    "            elif \"Y\" in record.seq:\n",
    "                pass\n",
    "            elif \"S\" in record.seq:\n",
    "                pass\n",
    "            elif \"K\" in record.seq:\n",
    "                pass\n",
    "            elif \"-\" in record.seq:\n",
    "                pass\n",
    "            elif \"N\" in record.seq:\n",
    "                pass\n",
    "            elif len(record.seq) > 32:\n",
    "#                 print(len(record.seq))\n",
    "                pass\n",
    "            elif len(record.seq) < 18:\n",
    "#                 print(len(record.seq))\n",
    "                pass\n",
    "            else:\n",
    "                subsample.append(record)\n",
    "        for record in subsample:\n",
    "            seq = str(record.seq)\n",
    "            seq = seq.replace(\"U\", \"T\")    \n",
    "            positive.append(seq)\n",
    "        print(len(positive))\n",
    "        positive = list(np.unique(positive))\n",
    "        print(len(positive))\n"
   ]
  },
  {
   "cell_type": "code",
   "execution_count": 4,
   "metadata": {},
   "outputs": [
    {
     "data": {
      "text/plain": [
       "3399"
      ]
     },
     "execution_count": 4,
     "metadata": {},
     "output_type": "execute_result"
    }
   ],
   "source": [
    "len(positive)"
   ]
  },
  {
   "cell_type": "code",
   "execution_count": 11,
   "metadata": {},
   "outputs": [],
   "source": [
    "lengths_p = []\n",
    "for seq in positive:\n",
    "    lengths_p.append(len(seq))"
   ]
  },
  {
   "cell_type": "code",
   "execution_count": 135,
   "metadata": {},
   "outputs": [
    {
     "data": {
      "text/plain": [
       "18"
      ]
     },
     "execution_count": 135,
     "metadata": {},
     "output_type": "execute_result"
    }
   ],
   "source": [
    "np.min(lengths_p)"
   ]
  },
  {
   "cell_type": "code",
   "execution_count": 168,
   "metadata": {
    "scrolled": true
   },
   "outputs": [
    {
     "data": {
      "text/plain": [
       "679.8"
      ]
     },
     "execution_count": 168,
     "metadata": {},
     "output_type": "execute_result"
    }
   ],
   "source": [
    "len(positive) /5"
   ]
  },
  {
   "cell_type": "code",
   "execution_count": 12,
   "metadata": {},
   "outputs": [
    {
     "data": {
      "image/png": "[encoded data removed]",
      "text/plain": [
       "<Figure size 432x288 with 1 Axes>"
      ]
     },
     "metadata": {
      "needs_background": "light"
     },
     "output_type": "display_data"
    }
   ],
   "source": [
    "%matplotlib inline\n",
    "plt.hist(lengths_p, color=\"orange\", alpha=0.5,bins=12, label=\"miRNAs\")\n",
    "plt.title(\"Distribution of Lengths miRNA Sequences\")\n",
    "plt.xlabel(\"Size\")\n",
    "plt.ylabel(\"Frequency\")\n",
    "plt.show()"
   ]
  },
  {
   "cell_type": "code",
   "execution_count": 13,
   "metadata": {},
   "outputs": [
    {
     "name": "stdout",
     "output_type": "stream",
     "text": [
      "1.8454069393381164e-110\n"
     ]
    }
   ],
   "source": [
    "# looks like a gamma distribution lets check this using the kolmogorov smirnov test\n",
    "alpha = np.mean(lengths_p) * np.mean(lengths_p) / np.var(lengths_p)\n",
    "beta = np.mean(lengths_p) / np.var(lengths_p)\n",
    "print(kstest(lengths_p,\"gamma\",args=(alpha,0,1./beta))[1])\n",
    "# shows a p-value below 0.05, we can reject the null hypothesis this means this does not follow a gamma distribution "
   ]
  },
  {
   "cell_type": "code",
   "execution_count": 17,
   "metadata": {},
   "outputs": [
    {
     "name": "stdout",
     "output_type": "stream",
     "text": [
      "22.12562518387761 1.6128125972385003\n"
     ]
    }
   ],
   "source": [
    "STD = np.std(lengths_p)\n",
    "MEAN = np.mean(lengths_p)\n",
    "print(MEAN,STD)"
   ]
  },
  {
   "cell_type": "code",
   "execution_count": 14,
   "metadata": {
    "scrolled": true
   },
   "outputs": [
    {
     "name": "stdout",
     "output_type": "stream",
     "text": [
      "snoRNA :  5313\n",
      "piRNA :  10766\n",
      "lncRNA :  11852\n",
      "pre-miRNA :  14640\n",
      "tRNA :  1439597\n",
      "rRNA :  1526700\n"
     ]
    }
   ],
   "source": [
    "# Counting the amount of RNAs per type\n",
    "for name, RNA in zip([\"snoRNA\", \"piRNA\",\"lncRNA\",\"pre-miRNA\", \"tRNA\",\"rRNA\"],RNAs_not):\n",
    "    counter = 0\n",
    "    with gzip.open(RNA, \"rt\") as handle:\n",
    "        for record in SeqIO.parse(handle,\"fasta\"):\n",
    "            counter += 1\n",
    "    print(name,\": \", counter)"
   ]
  },
  {
   "cell_type": "code",
   "execution_count": 15,
   "metadata": {},
   "outputs": [],
   "source": [
    "def fragmentize(gzip_fasta):\n",
    "    store = []\n",
    "    with gzip.open(gzip_fasta, \"rt\") as handle:\n",
    "        random.seed(10)\n",
    "        records = SeqIO.parse(handle, \"fasta\")\n",
    "        subsample = []\n",
    "        for record in records:\n",
    "            if \"R\" in record.seq:\n",
    "                pass\n",
    "            elif \"W\" in record.seq:\n",
    "                pass\n",
    "            elif \"Y\" in record.seq:\n",
    "                pass\n",
    "            elif \"S\" in record.seq:\n",
    "                pass\n",
    "            elif \"K\" in record.seq:\n",
    "                pass\n",
    "            if \"-\" in record.seq:\n",
    "                pass\n",
    "            elif \"N\" in record.seq:\n",
    "                pass\n",
    "            else:\n",
    "                subsample.append(record)\n",
    "        subsample = random.sample(list(subsample), 679)\n",
    "        for record in subsample:\n",
    "            seq = str(record.seq).upper()\n",
    "            seq = seq.replace(\"U\", \"T\")    \n",
    "            if len(seq) < 17:\n",
    "                pass\n",
    "            elif len(seq) in range(17,32):\n",
    "                store.append(seq)\n",
    "            else:\n",
    "                length = len(seq)\n",
    "                frag_size = round(np.random.normal(MEAN+0.1,STD-0.50))\n",
    "                if frag_size > 31:\n",
    "                    frag_size = 31\n",
    "                elif frag_size < 17:\n",
    "                    frag_size = 17\n",
    "                else:\n",
    "                    pass\n",
    "                end = random.randint(31,length)\n",
    "                if frag_size < 17:\n",
    "                    print(frag_size)\n",
    "                start_frag = end-frag_size\n",
    "                fragment = seq[start_frag:end]\n",
    "                store.append(fragment)\n",
    "    return store"
   ]
  },
  {
   "cell_type": "code",
   "execution_count": 18,
   "metadata": {},
   "outputs": [],
   "source": [
    "negative = fragmentize(snoRNA) + fragmentize(piRNA) + fragmentize(lncRNA) + fragmentize(tRNA) + fragmentize(rRNA)"
   ]
  },
  {
   "cell_type": "code",
   "execution_count": 19,
   "metadata": {},
   "outputs": [],
   "source": [
    "lengths_n = []\n",
    "for seq in negative:\n",
    "    lengths_n.append(len(seq))"
   ]
  },
  {
   "cell_type": "code",
   "execution_count": 28,
   "metadata": {
    "scrolled": true
   },
   "outputs": [
    {
     "data": {
      "image/png": "[encoded data removed]",
      "text/plain": [
       "<Figure size 432x288 with 1 Axes>"
      ]
     },
     "metadata": {
      "needs_background": "light"
     },
     "output_type": "display_data"
    }
   ],
   "source": [
    "%matplotlib inline\n",
    "plt.hist(lengths_p, color=\"orange\", alpha=0.6,bins=12, label=\"miRNAs\")\n",
    "plt.hist(lengths_n, color=\"blue\",alpha=0.5,bins=12, label=\"non-miRNAs\")\n",
    "plt.axvline(np.mean(lengths_p), color='red', label = \"mean miRNAs\")\n",
    "plt.axvline(np.mean(lengths_n), color=\"blue\", label=\"mean non-miRNAs\")\n",
    "plt.axvline(np.mean(lengths_p) - np.std(lengths_p), color=\"red\", linestyle=\"dashed\", label= \"std miRNAs\")\n",
    "plt.axvline(np.mean(lengths_p) + np.std(lengths_p), color=\"red\",linestyle=\"dashed\")\n",
    "plt.axvline(np.mean(lengths_n) - np.std(lengths_n), color=\"blue\", linestyle=\"dashed\", label= \"std non-miRNAs\")\n",
    "plt.axvline(np.mean(lengths_n) + np.std(lengths_n), color=\"blue\",linestyle=\"dashed\")\n",
    "plt.xticks(np.arange(min(lengths_p + lengths_n), max(lengths_p + lengths_n),1))\n",
    "plt.title(\"Distribution of Lengths miRNA Sequences\")\n",
    "plt.xlabel(\"Seq Length\")\n",
    "plt.ylabel(\"Frequency\")\n",
    "plt.legend()\n",
    "plt.savefig(\"distribution_miRNAs_miRNAsNOT.png\", transparent=True, format=\"png\")\n",
    "plt.show()\n"
   ]
  },
  {
   "cell_type": "code",
   "execution_count": 220,
   "metadata": {},
   "outputs": [
    {
     "name": "stdout",
     "output_type": "stream",
     "text": [
      "6793\n"
     ]
    }
   ],
   "source": [
    "print(len(lengths_p)+ len(lengths_n))"
   ]
  },
  {
   "cell_type": "code",
   "execution_count": 197,
   "metadata": {},
   "outputs": [
    {
     "data": {
      "text/plain": [
       "3394"
      ]
     },
     "execution_count": 197,
     "metadata": {},
     "output_type": "execute_result"
    }
   ],
   "source": [
    "len(lengths_n)"
   ]
  },
  {
   "cell_type": "code",
   "execution_count": 218,
   "metadata": {},
   "outputs": [
    {
     "data": {
      "text/plain": [
       "3.264705882352941"
      ]
     },
     "execution_count": 218,
     "metadata": {},
     "output_type": "execute_result"
    }
   ],
   "source": [
    "222/6800 * 100"
   ]
  },
  {
   "cell_type": "code",
   "execution_count": 198,
   "metadata": {
    "scrolled": true
   },
   "outputs": [
    {
     "name": "stdout",
     "output_type": "stream",
     "text": [
      "18\n",
      "31\n"
     ]
    }
   ],
   "source": [
    "print(np.min(lengths_n))\n",
    "print(np.max(lengths_n))"
   ]
  },
  {
   "cell_type": "code",
   "execution_count": 29,
   "metadata": {},
   "outputs": [],
   "source": [
    "y_negative = [0 for i in range(0, len(negative))]\n",
    "y_positive = [1 for i in range(0, len(positive))]\n",
    "Y = np.concatenate([y_negative,y_positive])\n",
    "Xs = negative + positive"
   ]
  },
  {
   "cell_type": "code",
   "execution_count": 30,
   "metadata": {},
   "outputs": [],
   "source": [
    "def padding(Xs):\n",
    "    padded_seqs = []\n",
    "    for seq in Xs:\n",
    "        if len(seq) < 31:\n",
    "            n = 31 - len(seq)\n",
    "            K = \"N\"\n",
    "            seq = seq.ljust(n + len(seq), K)\n",
    "            padded_seqs.append(seq)\n",
    "        else:\n",
    "            padded_seqs.append(seq)\n",
    "    return padded_seqs"
   ]
  },
  {
   "cell_type": "code",
   "execution_count": 31,
   "metadata": {},
   "outputs": [],
   "source": [
    "X_padded_seqs = padding(Xs)"
   ]
  },
  {
   "cell_type": "code",
   "execution_count": 32,
   "metadata": {},
   "outputs": [],
   "source": [
    "def one_hot_encoding(X_data):\n",
    "    \n",
    "    one_hot_encoded = []\n",
    "    for seq in X_data:\n",
    "        empty = np.zeros((len(seq),4))\n",
    "        for i, n in enumerate(seq):\n",
    "            if n == \"A\":\n",
    "                empty[i,0] = 1\n",
    "            elif n == \"T\":\n",
    "                empty[i,1] = 1 \n",
    "            elif n == \"G\":\n",
    "                empty[i,2] = 1\n",
    "            elif n == \"C\":\n",
    "                empty[i,3] = 1\n",
    "            else:\n",
    "                pass\n",
    "        one_hot_encoded.append(empty)\n",
    "    return np.asarray(one_hot_encoded)   "
   ]
  },
  {
   "cell_type": "code",
   "execution_count": 33,
   "metadata": {},
   "outputs": [],
   "source": [
    "X_one_hot = one_hot_encoding(X_padded_seqs)"
   ]
  },
  {
   "cell_type": "code",
   "execution_count": 34,
   "metadata": {},
   "outputs": [],
   "source": [
    "for i, l in enumerate(X_one_hot):\n",
    "    if l.shape != (31,4):\n",
    "        print(l.shape)\n",
    "        print(\"Check your data\")\n",
    "        print(i)"
   ]
  },
  {
   "cell_type": "code",
   "execution_count": 39,
   "metadata": {},
   "outputs": [],
   "source": [
    "X_OH_train, X_OH_rem, y_train, y_rem = train_test_split(X_one_hot,Y, test_size=0.15, random_state=42)\n",
    "X_OH_valid, X_OH_test, y_valid, y_test = train_test_split(X_OH_rem ,y_rem, test_size=0.5)"
   ]
  },
  {
   "cell_type": "code",
   "execution_count": 40,
   "metadata": {},
   "outputs": [
    {
     "name": "stdout",
     "output_type": "stream",
     "text": [
      "X_OH_train (5774, 31, 4)\n",
      "X_OH_valid (509, 31, 4)\n",
      "X_OH_test (510, 31, 4)\n",
      "y_train (5774,)\n",
      "y_valid (509,)\n",
      "y_test (510,)\n"
     ]
    }
   ],
   "source": [
    "print(\"X_OH_train\", X_OH_train.shape)\n",
    "print(\"X_OH_valid\",X_OH_valid.shape)\n",
    "print(\"X_OH_test\",X_OH_test.shape)\n",
    "print(\"y_train\",y_train.shape)\n",
    "print(\"y_valid\",y_valid.shape)\n",
    "print(\"y_test\",y_test.shape)"
   ]
  },
  {
   "cell_type": "code",
   "execution_count": 41,
   "metadata": {},
   "outputs": [],
   "source": [
    "np.savez(\"hexapoda.npz\", x_OH_train=X_OH_train,x_OH_valid= X_OH_valid, x_OH_test = X_OH_test, y_train=y_train, y_valid= y_valid, y_test=y_test)"
   ]
  }
 ],
 "metadata": {
  "kernelspec": {
   "display_name": "Python 3",
   "language": "python",
   "name": "python3"
  },
  "language_info": {
   "codemirror_mode": {
    "name": "ipython",
    "version": 3
   },
   "file_extension": ".py",
   "mimetype": "text/x-python",
   "name": "python",
   "nbconvert_exporter": "python",
   "pygments_lexer": "ipython3",
   "version": "3.8.10"
  }
 },
 "nbformat": 4,
 "nbformat_minor": 5
}
