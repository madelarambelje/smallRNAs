{
 "cells": [
  {
   "cell_type": "code",
   "execution_count": 63,
   "metadata": {},
   "outputs": [],
   "source": [
    "import pandas as pd\n",
    "import numpy as np\n",
    "import matplotlib.pyplot as plt\n",
    "from matplotlib.backends.backend_pdf import PdfPages"
   ]
  },
  {
   "cell_type": "code",
   "execution_count": 64,
   "metadata": {},
   "outputs": [
    {
     "name": "stdout",
     "output_type": "stream",
     "text": [
      "Index(['mapped_JMS_EG_sRNA_S5_L001_R1', 'mapped_JMS_FC1_sRNA_S6_L001_R1',\n",
      "       'mapped_JMS_MvL_sRNA_S4_L001_R1', 'mapped_KG_EG_sRNA_S9_L001_R1',\n",
      "       'mapped_KG_FC_sRNA_S8_L001_R1', 'mapped_KG_MvL1_sRNA_S7_L001_R1',\n",
      "       'mapped_KGplus_EG1_sRNA_S10_L001_R1',\n",
      "       'mapped_KGplus_FC_sRNA_S11_L001_R1',\n",
      "       'mapped_KGplus_MvL_sRNA_S12_L001_R1'],\n",
      "      dtype='object')\n",
      "IDs are unique: True\n"
     ]
    },
    {
     "data": {
      "text/html": [
       "<div>\n",
       "<style scoped>\n",
       "    .dataframe tbody tr th:only-of-type {\n",
       "        vertical-align: middle;\n",
       "    }\n",
       "\n",
       "    .dataframe tbody tr th {\n",
       "        vertical-align: top;\n",
       "    }\n",
       "\n",
       "    .dataframe thead th {\n",
       "        text-align: right;\n",
       "    }\n",
       "</style>\n",
       "<table border=\"1\" class=\"dataframe\">\n",
       "  <thead>\n",
       "    <tr style=\"text-align: right;\">\n",
       "      <th></th>\n",
       "      <th>JEG</th>\n",
       "      <th>JFC</th>\n",
       "      <th>JMV</th>\n",
       "      <th>KEG</th>\n",
       "      <th>KFC</th>\n",
       "      <th>KMV</th>\n",
       "      <th>AEG</th>\n",
       "      <th>AFC</th>\n",
       "      <th>AMV</th>\n",
       "    </tr>\n",
       "  </thead>\n",
       "  <tbody>\n",
       "    <tr>\n",
       "      <th>piR-dme-62476</th>\n",
       "      <td>57</td>\n",
       "      <td>18</td>\n",
       "      <td>73</td>\n",
       "      <td>14853</td>\n",
       "      <td>16837</td>\n",
       "      <td>22141</td>\n",
       "      <td>48</td>\n",
       "      <td>24</td>\n",
       "      <td>63</td>\n",
       "    </tr>\n",
       "    <tr>\n",
       "      <th>piR-dme-64569</th>\n",
       "      <td>207</td>\n",
       "      <td>95</td>\n",
       "      <td>195</td>\n",
       "      <td>62</td>\n",
       "      <td>94</td>\n",
       "      <td>117</td>\n",
       "      <td>106</td>\n",
       "      <td>77</td>\n",
       "      <td>101</td>\n",
       "    </tr>\n",
       "    <tr>\n",
       "      <th>piR-dme-78513</th>\n",
       "      <td>57319</td>\n",
       "      <td>33873</td>\n",
       "      <td>59042</td>\n",
       "      <td>25366</td>\n",
       "      <td>33649</td>\n",
       "      <td>42629</td>\n",
       "      <td>36238</td>\n",
       "      <td>29491</td>\n",
       "      <td>37925</td>\n",
       "    </tr>\n",
       "    <tr>\n",
       "      <th>piR-dme-88591</th>\n",
       "      <td>163</td>\n",
       "      <td>81</td>\n",
       "      <td>138</td>\n",
       "      <td>52</td>\n",
       "      <td>78</td>\n",
       "      <td>68</td>\n",
       "      <td>59</td>\n",
       "      <td>89</td>\n",
       "      <td>87</td>\n",
       "    </tr>\n",
       "    <tr>\n",
       "      <th>piR-dme-92195</th>\n",
       "      <td>7053</td>\n",
       "      <td>4010</td>\n",
       "      <td>7191</td>\n",
       "      <td>2714</td>\n",
       "      <td>3950</td>\n",
       "      <td>5443</td>\n",
       "      <td>5724</td>\n",
       "      <td>3017</td>\n",
       "      <td>4882</td>\n",
       "    </tr>\n",
       "  </tbody>\n",
       "</table>\n",
       "</div>"
      ],
      "text/plain": [
       "                 JEG    JFC    JMV    KEG    KFC    KMV    AEG    AFC    AMV\n",
       "piR-dme-62476     57     18     73  14853  16837  22141     48     24     63\n",
       "piR-dme-64569    207     95    195     62     94    117    106     77    101\n",
       "piR-dme-78513  57319  33873  59042  25366  33649  42629  36238  29491  37925\n",
       "piR-dme-88591    163     81    138     52     78     68     59     89     87\n",
       "piR-dme-92195   7053   4010   7191   2714   3950   5443   5724   3017   4882"
      ]
     },
     "metadata": {},
     "output_type": "display_data"
    }
   ],
   "source": [
    "known_piRNAs_GDA = pd.read_csv(\"piRNAs_GDA.csv\", sep=\"\\t\", header=0)\n",
    "known_piRNAs_GDA = known_piRNAs_GDA.drop(columns=[\"Name\", \"main\"])\n",
    "known_piRNAs_GDA = known_piRNAs_GDA[known_piRNAs_GDA.columns.sort_values()]\n",
    "known_piRNAs_GDA.index = known_piRNAs_GDA[\"Locus\"]\n",
    "known_piRNAs_GDA = known_piRNAs_GDA.drop(columns=[\"Locus\"])\n",
    "print(known_piRNAs_GDA.columns)\n",
    "known_piRNAs_GDA.columns = [i for i in range(1,10)]\n",
    "print(\"IDs are unique:\",len([piRNA_ID.split(\":\")[0] for piRNA_ID in known_piRNAs_GDA.index.to_list()]) == len(np.unique([piRNA_ID.split(\":\")[0] for piRNA_ID in known_piRNAs_GDA.index.to_list()])))\n",
    "known_piRNAs_GDA.index = [piRNA_ID.split(\":\")[0] for piRNA_ID in known_piRNAs_GDA.index.to_list()]\n",
    "known_piRNAs_GDA.columns = [\"JEG\", \"JFC\", \"JMV\", \"KEG\", \"KFC\", \"KMV\", \"AEG\", \"AFC\", \"AMV\"]\n",
    "display(known_piRNAs_GDA.head())"
   ]
  },
  {
   "cell_type": "code",
   "execution_count": 65,
   "metadata": {},
   "outputs": [],
   "source": [
    "all_miRNAs = pd.read_csv(\"GDA_all_miRNA_counts_raw.csv\", index_col=0, sep =\"\\t\")\n",
    "miRNAs_counts = all_miRNAs.sum(axis=0).to_list()"
   ]
  },
  {
   "cell_type": "code",
   "execution_count": 66,
   "metadata": {},
   "outputs": [],
   "source": [
    "pred_piRNAs = pd.read_csv(\"counts_predicted_piRNAs.csv\", index_col=0, sep = \"\\t\")\n",
    "pred_piRNAs = pred_piRNAs.drop(columns=[\"Seqs\"])"
   ]
  },
  {
   "cell_type": "code",
   "execution_count": 67,
   "metadata": {},
   "outputs": [],
   "source": [
    "FINAL_COUNTS = pd.concat([known_piRNAs_GDA,all_miRNAs,pred_piRNAs])\n",
    "FINAL_COUNTS.to_csv(\"all_identified_predicted_RNAs.csv\", sep = \"\\t\")"
   ]
  },
  {
   "cell_type": "code",
   "execution_count": 68,
   "metadata": {
    "scrolled": true
   },
   "outputs": [],
   "source": [
    "piRNAs_counts = FINAL_COUNTS.loc[FINAL_COUNTS.index.str.contains(\"piR\"),:].sum(axis=0).to_list()"
   ]
  },
  {
   "cell_type": "code",
   "execution_count": 69,
   "metadata": {},
   "outputs": [],
   "source": [
    "all_piRNAs = FINAL_COUNTS.loc[FINAL_COUNTS.index.str.contains(\"piR\"),:]"
   ]
  },
  {
   "cell_type": "code",
   "execution_count": 70,
   "metadata": {},
   "outputs": [
    {
     "data": {
      "text/plain": [
       "Text(0.5, 1.0, 'Raw Count of small RNAs')"
      ]
     },
     "execution_count": 70,
     "metadata": {},
     "output_type": "execute_result"
    },
    {
     "data": {
      "image/png": "[encoded data removed]",
      "text/plain": [
       "<Figure size 432x288 with 1 Axes>"
      ]
     },
     "metadata": {
      "needs_background": "light"
     },
     "output_type": "display_data"
    }
   ],
   "source": [
    "x_axis = np.arange(9)\n",
    "plt.bar(x_axis-0.15,miRNAs_counts,width=0.3,label=\"miRNAs\",color=\"steelblue\")\n",
    "plt.bar(x_axis+0.15,piRNAs_counts,width=0.3,label=\"piRNAs\",color=\"skyblue\")\n",
    "plt.title(\"Raw Count of small RNAs\")\n"
   ]
  },
  {
   "cell_type": "code",
   "execution_count": 71,
   "metadata": {},
   "outputs": [],
   "source": [
    "miRNAs_percentage = [(m/(m+p))*100 for m, p in zip(miRNAs_counts,piRNAs_counts)]\n",
    "piRNAs_percentage = [(p/(m+p))*100 for m, p in zip(miRNAs_counts,piRNAs_counts)]\n"
   ]
  },
  {
   "cell_type": "code",
   "execution_count": 72,
   "metadata": {},
   "outputs": [
    {
     "data": {
      "image/png": "[encoded data removed]",
      "text/plain": [
       "<Figure size 864x360 with 2 Axes>"
      ]
     },
     "metadata": {
      "needs_background": "light"
     },
     "output_type": "display_data"
    }
   ],
   "source": [
    "fig, (raw, relative) = plt.subplots(1,2, figsize=(12,5))\n",
    "x_axis = np.arange(9)\n",
    "relative.bar(FINAL_COUNTS.columns, miRNAs_percentage, bottom=piRNAs_percentage, label = \"miRNAs\", color=\"steelblue\")\n",
    "relative.bar(FINAL_COUNTS.columns, piRNAs_percentage, label = \"piRNAs\", color=\"skyblue\")\n",
    "relative.set_title(\"Relative Abundance miRNAs vs piRNAs\")\n",
    "relative.set_ylabel(\"Percentage (%)\")\n",
    "raw.bar(x_axis-0.15,miRNAs_counts,width=0.3,label=\"miRNAs\",color=\"steelblue\")\n",
    "raw.bar(x_axis+0.15,piRNAs_counts,width=0.3,label=\"piRNAs\",color=\"skyblue\")\n",
    "raw.set_ylabel(\"Raw Count\")\n",
    "raw.set_title(\"Raw count miRNAs vs piRNAs\")\n",
    "raw.set_xticks(x_axis)\n",
    "raw.set_xticklabels(FINAL_COUNTS.columns)\n",
    "relative.legend(loc=\"center left\",bbox_to_anchor=(1,0.9))\n",
    "fig.suptitle(\"Abundance miRNAs vs piRNAs\", weight=\"bold\", size=\"large\")\n",
    "plt.show()\n",
    "fig.savefig(\"/home/madelarambelje/results/GDA_predicted_known.pdf\", format=\"pdf\",bbox_inches='tight')\n"
   ]
  },
  {
   "cell_type": "code",
   "execution_count": 73,
   "metadata": {},
   "outputs": [],
   "source": [
    "sample_group = [[\"JEG\",\"JFC\",\"JMV\"],[\"KEG\",\"KFC\",\"KMV\"],[\"AEG\",\"AFC\",\"AMV\"]]\n",
    "miRNAs_count_per_group = []\n",
    "piRNAs_count_per_group = []\n",
    "perc_miRNAs = []\n",
    "perc_piRNAs = []\n",
    "for group in sample_group:\n",
    "    miRNAs_g = 0\n",
    "    piRNAs_g = 0\n",
    "    for s in group:\n",
    "        miRNAs_g += all_miRNAs[s].sum()\n",
    "        piRNAs_g += all_piRNAs[s].sum()\n",
    "    miRNAs_count_per_group.append(miRNAs_g)\n",
    "    piRNAs_count_per_group.append(piRNAs_g)\n",
    "    perc_miRNAs.append(miRNAs_g / (miRNAs_g + piRNAs_g)*100)\n",
    "    perc_piRNAs.append(piRNAs_g / (miRNAs_g + piRNAs_g)*100)\n"
   ]
  },
  {
   "cell_type": "code",
   "execution_count": 87,
   "metadata": {},
   "outputs": [
    {
     "data": {
      "image/png": "[encoded data removed]",
      "text/plain": [
       "<Figure size 432x360 with 1 Axes>"
      ]
     },
     "metadata": {
      "needs_background": "light"
     },
     "output_type": "display_data"
    }
   ],
   "source": [
    "plt.figure(figsize=(6,5))\n",
    "plt.bar([\"Uninfected\", \"Infected\", \"Cured\"], perc_miRNAs, bottom=perc_piRNAs, label = \"miRNAs\", color=\"steelblue\",width=0.6)\n",
    "plt.bar([\"Uninfected\", \"Infected\", \"Cured\"], perc_piRNAs, label = \"piRNAs\", color=\"skyblue\",width=0.6)\n",
    "plt.ylabel(\"Percentage (%)\", fontsize=14)\n",
    "plt.xticks(fontsize=14)\n",
    "plt.legend(bbox_to_anchor=(1.05, 1.0))\n",
    "plt.title(\"Percentage miRNAs vs piRNAs per treatment\", fontsize=16)\n",
    "plt.tight_layout()\n",
    "plt.savefig(\"group_piRNAs_miRNAs.png\", dpi=150,format=\"png\",transparent=True)\n",
    "plt.show()\n"
   ]
  }
 ],
 "metadata": {
  "kernelspec": {
   "display_name": "Python 3",
   "language": "python",
   "name": "python3"
  },
  "language_info": {
   "codemirror_mode": {
    "name": "ipython",
    "version": 3
   },
   "file_extension": ".py",
   "mimetype": "text/x-python",
   "name": "python",
   "nbconvert_exporter": "python",
   "pygments_lexer": "ipython3",
   "version": "3.8.10"
  }
 },
 "nbformat": 4,
 "nbformat_minor": 4
}
