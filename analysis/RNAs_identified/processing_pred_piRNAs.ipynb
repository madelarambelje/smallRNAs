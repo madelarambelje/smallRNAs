{
 "cells": [
  {
   "cell_type": "code",
   "execution_count": 2,
   "metadata": {},
   "outputs": [],
   "source": [
    "import pandas as pd\n",
    "import numpy as np"
   ]
  },
  {
   "cell_type": "code",
   "execution_count": 14,
   "metadata": {},
   "outputs": [],
   "source": [
    "#read in DNAclust file\n",
    "with open(\"piRNAs_clust.csv\") as c:\n",
    "    lines = c.readlines()\n",
    "    lines = \"\".join(lines)\n",
    "    lines = lines.split(\"\\n\")\n",
    "    clusters = [c.split(\"\\t\") for c in lines]\n",
    "    clusters_filtered = []\n",
    "    for c in clusters:\n",
    "        del c[-1]        \n",
    "        if 3 <= len(c):\n",
    "            cluster=[]\n",
    "            for ids in c:\n",
    "                if ids == \"\":\n",
    "                    pass\n",
    "                else:\n",
    "                    cluster.append(ids)\n",
    "            clusters_filtered.append(cluster)\n",
    "#read in novel_piRNA file\n",
    "with open(\"multi_sample_piRNA.fasta\") as unfiltered_fasta:\n",
    "    lines = unfiltered_fasta.readlines()\n",
    "    all_ids = lines[::2]\n",
    "    reads = lines[1::2]\n",
    "    seqs = pd.DataFrame({\"IDs\":all_ids, \"Seqs\": reads})\n",
    "    seqs[\"IDs\"] = seqs[\"IDs\"].str.strip(\">\\n\")\n",
    "    seqs[\"Seqs\"] = seqs[\"Seqs\"].str.strip(\"\\n\")\n",
    "    all_ids = list(seqs[\"IDs\"])"
   ]
  },
  {
   "cell_type": "code",
   "execution_count": 4,
   "metadata": {},
   "outputs": [],
   "source": [
    "samples = [\"JEG\", \"JFC\", \"JMV\", \"KEG\", \"KFC\", \"KMV\", \"AEG\", \"AFC\", \"AMV\"]\n",
    "consensus = [i[0] for i in clusters_filtered]"
   ]
  },
  {
   "cell_type": "code",
   "execution_count": 5,
   "metadata": {},
   "outputs": [],
   "source": [
    "consensus_seqs = seqs[seqs[\"IDs\"].isin(consensus)]\n",
    "consensus_seqs.index = consensus_seqs[\"IDs\"]\n",
    "consensus_seqs = consensus_seqs.drop(columns=[\"IDs\"])"
   ]
  },
  {
   "cell_type": "code",
   "execution_count": 10,
   "metadata": {},
   "outputs": [],
   "source": [
    "for s in samples:\n",
    "    consensus_seqs[s] = 0\n",
    "counter = 0\n",
    "for cluster in clusters_filtered:\n",
    "    counter+=1 \n",
    "    for s in samples:\n",
    "        count = 0\n",
    "        for i, item in enumerate(cluster):\n",
    "# So if sample name is in header split on x to extract the read count stored in the header\n",
    "            if s in item:\n",
    "                count += int(cluster[i].split(\"x\")[1])\n",
    "# Store the count per sample                \n",
    "        consensus_seqs.loc[cluster[0],s] = count\n"
   ]
  },
  {
   "cell_type": "code",
   "execution_count": 11,
   "metadata": {
    "scrolled": false
   },
   "outputs": [
    {
     "data": {
      "text/html": [
       "<div>\n",
       "<style scoped>\n",
       "    .dataframe tbody tr th:only-of-type {\n",
       "        vertical-align: middle;\n",
       "    }\n",
       "\n",
       "    .dataframe tbody tr th {\n",
       "        vertical-align: top;\n",
       "    }\n",
       "\n",
       "    .dataframe thead th {\n",
       "        text-align: right;\n",
       "    }\n",
       "</style>\n",
       "<table border=\"1\" class=\"dataframe\">\n",
       "  <thead>\n",
       "    <tr style=\"text-align: right;\">\n",
       "      <th></th>\n",
       "      <th>Seqs</th>\n",
       "      <th>JEG</th>\n",
       "      <th>JFC</th>\n",
       "      <th>JMV</th>\n",
       "      <th>KEG</th>\n",
       "      <th>KFC</th>\n",
       "      <th>KMV</th>\n",
       "      <th>AEG</th>\n",
       "      <th>AFC</th>\n",
       "      <th>AMV</th>\n",
       "    </tr>\n",
       "  </thead>\n",
       "  <tbody>\n",
       "    <tr>\n",
       "      <th>pred_piRNA_0</th>\n",
       "      <td>TAGCATTGGATCTTGACGCGAACAAATC</td>\n",
       "      <td>0</td>\n",
       "      <td>0</td>\n",
       "      <td>0</td>\n",
       "      <td>101</td>\n",
       "      <td>123</td>\n",
       "      <td>150</td>\n",
       "      <td>117</td>\n",
       "      <td>134</td>\n",
       "      <td>111</td>\n",
       "    </tr>\n",
       "    <tr>\n",
       "      <th>pred_piRNA_1</th>\n",
       "      <td>TTAGTTTGGGTAAATAATGATGAAAAT</td>\n",
       "      <td>0</td>\n",
       "      <td>0</td>\n",
       "      <td>0</td>\n",
       "      <td>124</td>\n",
       "      <td>150</td>\n",
       "      <td>0</td>\n",
       "      <td>147</td>\n",
       "      <td>152</td>\n",
       "      <td>0</td>\n",
       "    </tr>\n",
       "    <tr>\n",
       "      <th>pred_piRNA_2</th>\n",
       "      <td>TGTTATTATCAAAGACTTATCTGAGT</td>\n",
       "      <td>0</td>\n",
       "      <td>0</td>\n",
       "      <td>0</td>\n",
       "      <td>157</td>\n",
       "      <td>255</td>\n",
       "      <td>230</td>\n",
       "      <td>217</td>\n",
       "      <td>220</td>\n",
       "      <td>174</td>\n",
       "    </tr>\n",
       "    <tr>\n",
       "      <th>pred_piRNA_3</th>\n",
       "      <td>TCATCTAGCTCCATCGGTTCTGTAGCT</td>\n",
       "      <td>0</td>\n",
       "      <td>0</td>\n",
       "      <td>0</td>\n",
       "      <td>7710</td>\n",
       "      <td>8109</td>\n",
       "      <td>8828</td>\n",
       "      <td>7241</td>\n",
       "      <td>4879</td>\n",
       "      <td>8225</td>\n",
       "    </tr>\n",
       "    <tr>\n",
       "      <th>pred_piRNA_4</th>\n",
       "      <td>TTAAAAGAACGATAGATCTGCAACTTGC</td>\n",
       "      <td>0</td>\n",
       "      <td>0</td>\n",
       "      <td>0</td>\n",
       "      <td>101</td>\n",
       "      <td>0</td>\n",
       "      <td>135</td>\n",
       "      <td>151</td>\n",
       "      <td>109</td>\n",
       "      <td>170</td>\n",
       "    </tr>\n",
       "  </tbody>\n",
       "</table>\n",
       "</div>"
      ],
      "text/plain": [
       "                                      Seqs  JEG  JFC  JMV   KEG   KFC   KMV  \\\n",
       "pred_piRNA_0  TAGCATTGGATCTTGACGCGAACAAATC    0    0    0   101   123   150   \n",
       "pred_piRNA_1   TTAGTTTGGGTAAATAATGATGAAAAT    0    0    0   124   150     0   \n",
       "pred_piRNA_2    TGTTATTATCAAAGACTTATCTGAGT    0    0    0   157   255   230   \n",
       "pred_piRNA_3   TCATCTAGCTCCATCGGTTCTGTAGCT    0    0    0  7710  8109  8828   \n",
       "pred_piRNA_4  TTAAAAGAACGATAGATCTGCAACTTGC    0    0    0   101     0   135   \n",
       "\n",
       "               AEG   AFC   AMV  \n",
       "pred_piRNA_0   117   134   111  \n",
       "pred_piRNA_1   147   152     0  \n",
       "pred_piRNA_2   217   220   174  \n",
       "pred_piRNA_3  7241  4879  8225  \n",
       "pred_piRNA_4   151   109   170  "
      ]
     },
     "metadata": {},
     "output_type": "display_data"
    }
   ],
   "source": [
    "# Creating identifier\n",
    "consensus_seqs.index = [f\"pred_piRNA_{i}\" for i in range(0,consensus_seqs.shape[0])]\n",
    "# Saving Dataframe\n",
    "consensus_seqs.to_csv(\"counts_predicted_piRNAs.csv\", sep = \"\\t\")\n",
    "display(consensus_seqs.head())"
   ]
  },
  {
   "cell_type": "code",
   "execution_count": 15,
   "metadata": {},
   "outputs": [],
   "source": [
    "# Writing all predicted (consensus) piRNAs to fasta \n",
    "with open(\"novel_pred_piRNAs.fasta\",\"w\") as f:\n",
    "    for i in consensus_seqs.index:\n",
    "        seq = consensus_seqs.loc[i,\"Seqs\"]\n",
    "        f.write(f\">{i}\\n{seq}\\n\")"
   ]
  }
 ],
 "metadata": {
  "kernelspec": {
   "display_name": "Python 3",
   "language": "python",
   "name": "python3"
  },
  "language_info": {
   "codemirror_mode": {
    "name": "ipython",
    "version": 3
   },
   "file_extension": ".py",
   "mimetype": "text/x-python",
   "name": "python",
   "nbconvert_exporter": "python",
   "pygments_lexer": "ipython3",
   "version": "3.8.10"
  }
 },
 "nbformat": 4,
 "nbformat_minor": 4
}
