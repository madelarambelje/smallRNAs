{
 "cells": [
  {
   "cell_type": "code",
   "execution_count": 1,
   "metadata": {},
   "outputs": [],
   "source": [
    "import pandas as pd\n",
    "import numpy as np\n",
    "import math\n",
    "import matplotlib.pyplot as plt"
   ]
  },
  {
   "cell_type": "code",
   "execution_count": 2,
   "metadata": {},
   "outputs": [],
   "source": [
    "counts = pd.read_csv(\"all_identified_predicted_RNAs.csv\", sep=\",\")"
   ]
  },
  {
   "cell_type": "code",
   "execution_count": 3,
   "metadata": {
    "scrolled": true
   },
   "outputs": [],
   "source": [
    "known_piRNA_count = np.array(counts[:1244].sum())[1:].reshape(3,3)\n",
    "known_miRNA_count = np.array(counts[1244:1577].sum())[1:].reshape(3,3)\n",
    "pred_miRNA_count = np.array(counts[1577:1916].sum())[1:].reshape(3,3)\n",
    "pred_piRNA_count = np.array(counts[1916:].sum())[1:].reshape(3,3)"
   ]
  },
  {
   "cell_type": "code",
   "execution_count": 4,
   "metadata": {
    "scrolled": true
   },
   "outputs": [],
   "source": [
    "mapped_counts = np.array([25641386,13845916,24387558,18942403,23785957,25014590,20861794,17270985,21713125]).reshape(3,3)"
   ]
  },
  {
   "cell_type": "code",
   "execution_count": 5,
   "metadata": {
    "scrolled": true
   },
   "outputs": [],
   "source": [
    "# \n",
    "perc_known_piRNAs = known_piRNA_count / mapped_counts * 100\n",
    "perc_known_miRNAs = known_miRNA_count / mapped_counts * 100\n",
    "perc_pred_piRNAs = pred_piRNA_count / mapped_counts * 100\n",
    "perc_pred_miRNAs = pred_miRNA_count / mapped_counts * 100\n",
    "unidentified = (mapped_counts - (known_miRNA_count + known_piRNA_count + pred_piRNA_count + pred_miRNA_count))/mapped_counts *100\n",
    "values = [perc_known_piRNAs,\n",
    "          perc_known_miRNAs,\n",
    "          perc_pred_piRNAs,\n",
    "          perc_pred_miRNAs,\n",
    "          unidentified]"
   ]
  },
  {
   "cell_type": "code",
   "execution_count": 6,
   "metadata": {},
   "outputs": [
    {
     "name": "stdout",
     "output_type": "stream",
     "text": [
      "[[0.40143158 0.21676628 0.38180214]\n",
      " [0.27962176 0.35112077 0.36925747]\n",
      " [0.34859184 0.28859093 0.36281723]]\n"
     ]
    }
   ],
   "source": [
    "weights = (mapped_counts.reshape(3,3) / mapped_counts.reshape(3,3).sum(axis=1)[:,None])\n",
    "print(weights)"
   ]
  },
  {
   "cell_type": "code",
   "execution_count": 7,
   "metadata": {
    "scrolled": true
   },
   "outputs": [],
   "source": [
    "# calculating weighted means\n",
    "known_piRNAs_weighted_mean_percentage = (weights * perc_known_piRNAs).sum(axis=1)\n",
    "known_miRNAs_weighted_mean_percentage = (weights * perc_known_miRNAs).sum(axis=1)\n",
    "pred_piRNAs_weighted_mean_percentage = (weights * perc_pred_piRNAs).sum(axis=1)\n",
    "pred_miRNAs_weighted_mean_percentage = (weights * perc_pred_miRNAs).sum(axis=1)\n",
    "unidentified_weighted_mean_percentage = (weights * unidentified).sum(axis=1)\n",
    "means = [known_piRNAs_weighted_mean_percentage,\n",
    "         known_miRNAs_weighted_mean_percentage,\n",
    "         pred_piRNAs_weighted_mean_percentage,\n",
    "         pred_miRNAs_weighted_mean_percentage,\n",
    "         unidentified_weighted_mean_percentage]"
   ]
  },
  {
   "cell_type": "code",
   "execution_count": 8,
   "metadata": {},
   "outputs": [],
   "source": [
    "# calculating weighted standard deviation \n",
    "stdws = []\n",
    "for value, mean in zip(values,means):\n",
    "    numerator = (weights *(value - mean[:,None])**2).sum(axis=1)\n",
    "    delimitor = weights.sum(axis=1) * (3-1)/3\n",
    "    stdw = np.sqrt((numerator / delimitor).astype(float))\n",
    "    stdws.append(stdw)"
   ]
  },
  {
   "cell_type": "code",
   "execution_count": 9,
   "metadata": {},
   "outputs": [
    {
     "data": {
      "image/png": "[encoded data removed]",
      "text/plain": [
       "<Figure size 720x360 with 1 Axes>"
      ]
     },
     "metadata": {
      "needs_background": "light"
     },
     "output_type": "display_data"
    }
   ],
   "source": [
    "\n",
    "labels = [\"known_piRNAs\", \"known_miRNAs\", \"predicted piRNAs\", \"predicted miRNAs\", \"unidentified\"]\n",
    "colors = [\"#56B4E9\", \"#E69F00\", \"#0072B2\", \"#CC79A7\", \"#D55E00\"]\n",
    "distance = [-0.3, -0.15, 0, 0.15, 0.3]\n",
    "\n",
    "fig, ax = plt.subplots(figsize=(10,5))\n",
    "x = np.arange(3)\n",
    "width=0.15\n",
    "\n",
    "for i, items in enumerate(zip(labels,colors,distance)):\n",
    "    ax.bar(x+items[2], means[i],width, label=items[0], color=items[1])\n",
    "    plotline, caplines, barlinecols = ax.errorbar(x+items[2], \n",
    "                                                 means[i], \n",
    "                                                 yerr=stdws[i],lolims=True,capsize=0,ls=\"None\", color=\"k\")\n",
    "    caplines[0].set_marker(\"_\")\n",
    "    caplines[0].set_markersize(10)\n",
    "ax.set_xticks(x, [\"uninfected\", \"infected\", \"cured\"], fontsize=14)\n",
    "ax.tick_params(axis='y', which='major', labelsize=12)\n",
    "ax.set_ylabel(\"percentage %\", fontsize=13)\n",
    "ax.legend(loc=\"center left\",bbox_to_anchor=(1,0.83),fontsize=13)\n",
    "ax.set_title(\"Identified sequences in conditions\", fontsize=14)\n",
    "plt.savefig(\"identified_sequences_weighted.png\", dpi=300, format=\"png\", transparent=True, bbox_inches='tight')"
   ]
  }
 ],
 "metadata": {
  "kernelspec": {
   "display_name": "Python 3",
   "language": "python",
   "name": "python3"
  },
  "language_info": {
   "codemirror_mode": {
    "name": "ipython",
    "version": 3
   },
   "file_extension": ".py",
   "mimetype": "text/x-python",
   "name": "python",
   "nbconvert_exporter": "python",
   "pygments_lexer": "ipython3",
   "version": "3.8.10"
  }
 },
 "nbformat": 4,
 "nbformat_minor": 4
}
